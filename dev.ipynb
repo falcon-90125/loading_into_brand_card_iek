{
 "cells": [
  {
   "cell_type": "code",
   "execution_count": null,
   "id": "dfed40a4",
   "metadata": {},
   "outputs": [],
   "source": [
    "import pandas as pd\n",
    "import numpy as np\n",
    "import os\n",
    "import json"
   ]
  },
  {
   "cell_type": "code",
   "execution_count": null,
   "id": "309c0a39",
   "metadata": {},
   "outputs": [],
   "source": [
    "import io\n",
    "import extract_msg\n",
    "from PyPDF2 import PdfReader  # Для работы с PDF\n",
    "from typing import Tuple  # Для типизации"
   ]
  },
  {
   "cell_type": "code",
   "execution_count": null,
   "id": "0b5e25e9",
   "metadata": {},
   "outputs": [],
   "source": [
    "# #pdf2txt\n",
    "# import io\n",
    "# from pdfminer.converter import TextConverter\n",
    "# from pdfminer.pdfinterp import PDFPageInterpreter\n",
    "# from pdfminer.pdfinterp import PDFResourceManager\n",
    "# from pdfminer.pdfpage import PDFPage"
   ]
  },
  {
   "cell_type": "code",
   "execution_count": 79,
   "id": "4d7616c2",
   "metadata": {},
   "outputs": [
    {
     "name": "stdout",
     "output_type": "stream",
     "text": [
      "C:/Users/sokolov/Yandex_Disk/MyData/Projects/loading_into_brand_card_iek/3/Условия по тендеру Т250721-38067 согласованы IEKCRM0002684.msg\n"
     ]
    }
   ],
   "source": [
    "# Вытаскиваем PathSupplierLetter – путь к письму поставщика на ПК\n",
    "# folder_path = 'C:\\Users\\sokolov\\Yandex_Disk\\MyData\\Projects\\loading_into_brand_card_iek\\exchange\\'\n",
    "folder_path = 'C:/Users/sokolov/Yandex_Disk/MyData/Projects/loading_into_brand_card_iek/3/'\n",
    "for file in os.listdir(folder_path):\n",
    "    if '.msg' in file:\n",
    "        PathSupplierLetter = folder_path + file\n",
    "print(PathSupplierLetter)"
   ]
  },
  {
   "cell_type": "code",
   "execution_count": 88,
   "id": "9d029f97",
   "metadata": {},
   "outputs": [],
   "source": [
    "def process_msg_file(PathSupplierLetter: str) -> Tuple[pd.DataFrame, str]:\n",
    "    \"\"\"\n",
    "    Обрабатывает файл .msg, извлекает Excel и PDF вложения,\n",
    "    преобразует Excel в DataFrame, PDF в текст.\n",
    "    \n",
    "    Args:\n",
    "        msg_path (str): Путь к файлу .msg\n",
    "        \n",
    "    Returns:\n",
    "        Tuple[pd.DataFrame, str]: DataFrame из Excel и текст из PDF\n",
    "    \"\"\"\n",
    "    excel_df = None\n",
    "    pdf_text = \"\"\n",
    "    \n",
    "    try:\n",
    "        # Открываем файл .msg\n",
    "        msg = extract_msg.Message(PathSupplierLetter)\n",
    "        \n",
    "        # Проверяем, что есть ровно 2 вложения\n",
    "        if len(msg.attachments) != 2:\n",
    "            raise ValueError(\"В письме должно быть ровно 2 вложения\")\n",
    "            \n",
    "        for attachment in msg.attachments:\n",
    "            filename = attachment.longFilename\n",
    "            \n",
    "            # Обработка Excel файла\n",
    "            if filename.lower().endswith('.xlsx'):\n",
    "                excel_data = io.BytesIO(attachment.data)\n",
    "                specification_xlsx = pd.read_excel(excel_data)\n",
    "                \n",
    "            # Обработка PDF файла\n",
    "            elif filename.lower().endswith('.pdf'):\n",
    "                pdf_data = io.BytesIO(attachment.data)\n",
    "                pdf_reader = PdfReader(pdf_data)\n",
    "                \n",
    "                # Собираем текст со всех страниц\n",
    "                for page in pdf_reader.pages:\n",
    "                    pdf_text += page.extract_text() + \"\\n\"\n",
    "                    \n",
    "            else:\n",
    "                raise ValueError(f\"Неподдерживаемый формат файла: {filename}\")\n",
    "                \n",
    "        msg.close()\n",
    "        \n",
    "    except Exception as e:\n",
    "        print(f\"Произошла ошибка: {str(e)}\")\n",
    "        raise\n",
    "        \n",
    "    return specification_xlsx, pdf_text"
   ]
  },
  {
   "cell_type": "code",
   "execution_count": 93,
   "id": "1c31eac8",
   "metadata": {},
   "outputs": [
    {
     "data": {
      "text/plain": [
       "'Уважаемые Партнеры! В ответ на запрос о предоставлении разовой скидки компании Алекс, ООО ИНН 5410082888 в сообщаем, что IEK GROUP предоставляет компании ЭКС Новосибирск (филиал, Новосибирск, офис № 3 ) в рамках реализации проекта РФ Новосибирская обл Строительство ЖК \"Расцветай\" Новосибирск г Авиастроителей ул 3/1 стр право реализации продукции Торговой марки IEK по проекту 20240122-00561 ЖК Расцветай на Авиастроителей, ул.Авиастроителей, г.Новосибирск (ГК Расцветай) , указанной в предоставленной спецификации в адрес Алекс, ООО на следующих условиях (с предоставлением следующих скидок): Руководитель отдела продаж по СФО Плахотько К.А. Исх № P250721-40439 От 21.07.2025 ЭКС Новосибирск (филиал, Новосибирск, офис №3) Вниманию: - Исполнитель: Савинский Игорь Андреевич Тел: E-mail: savinskijia@iek.ru Сумма заказа 1 128 885,42 рублей с учетом предоставленных спец. условий. Перечень и количество продукции указаны в Приложении Также обращаю Ваше внимание на необходимость сразу же после каждой отгрузки предоставлять в адрес IEK GROUP заверенные копии всех отгрузочных документов по данному заказу, в которых присутствует продукция Торговой марки IEK . IEK GROUP оставляет за собой право согласования аналогичных условий по запросам иных дистрибьюторов в рамках коммерческой политики IEK GROUP . 1. По продукции IEK - скидка до 55,0% Письма только для Дистрибутора Приложение Артикул Название Ед. измерения Количество MZD10-230 Звонок ЗД-47 на DIN- рейку IEK шт 444 MAD25-5-025-C- 30 АВДТ 32 C25 - Автоматический Выключатель Дифф. Тока GENERICA шт 438 MAD25-5-016-C- 30 АВДТ 32 C16 - Автоматический Выключатель Дифф. Тока GENERICA шт 1302 MNV15-2-063 Выключатель нагрузки (мини-рубильник) ВН- 32 2Р 63А GENERICA шт 438 MKP12-N-12-41- G Корпус пластиковый ЩРН-П-12 черн. прозр. дверь IP41 GENERICA шт 440'"
      ]
     },
     "execution_count": 93,
     "metadata": {},
     "output_type": "execute_result"
    }
   ],
   "source": [
    "specification_xlsx, pdf_text = process_msg_file(PathSupplierLetter)\n",
    "text = pdf_text.strip()\n",
    "text = text.replace('\\n', ' ')\n",
    "text = text.replace('    ', ' ')\n",
    "text = text.replace('   ', ' ')\n",
    "text = text.replace('  ', ' ')\n",
    "text"
   ]
  },
  {
   "cell_type": "code",
   "execution_count": 94,
   "id": "4972503f",
   "metadata": {},
   "outputs": [
    {
     "name": "stdout",
     "output_type": "stream",
     "text": [
      "57.0\n"
     ]
    }
   ],
   "source": [
    "# Вытаскиваем DiscountEKS – наша скидка\n",
    "discount_from_base = \"Устанавливаемая скидка (скидка от базовой), %\"\n",
    "# Поиск индексов (строка, столбец), где встречается текст\n",
    "result = np.where(specification_xlsx.apply(lambda x: x.astype(str).str.contains(discount_from_base, regex=False)))\n",
    "row_idx = result[0][0]  # Индекс строки\n",
    "col_idx = result[1][0]  # Индекс столбца\n",
    "DiscountEKS = float(specification_xlsx.iat[row_idx+1, col_idx])\n",
    "print(DiscountEKS)"
   ]
  },
  {
   "cell_type": "code",
   "execution_count": 95,
   "id": "a58b6d75",
   "metadata": {},
   "outputs": [
    {
     "name": "stdout",
     "output_type": "stream",
     "text": [
      "55.0\n"
     ]
    }
   ],
   "source": [
    "# Вытаскиваем DiscountBuyer – скидка клиента\n",
    "text_discount_index = text.index('По продукции IEK - скидка до ')\n",
    "text_discount = text[text_discount_index+29:text_discount_index+40]\n",
    "text_discount = text_discount[:text_discount.index('%')]\n",
    "text_discount = text_discount.replace(',', '.')\n",
    "DiscountBuyer = float(text_discount)\n",
    "print(DiscountBuyer)"
   ]
  },
  {
   "cell_type": "code",
   "execution_count": 96,
   "id": "e6555f9a",
   "metadata": {},
   "outputs": [
    {
     "name": "stdout",
     "output_type": "stream",
     "text": [
      "20240122-00561\n"
     ]
    }
   ],
   "source": [
    "# Вытаскиваем VendorCode – код вендора\n",
    "vendor_code = \"Номер проекта в системе IEK\"\n",
    "# Поиск индексов (строка, столбец), где встречается текст\n",
    "result = np.where(specification_xlsx.apply(lambda x: x.astype(str).str.contains(vendor_code, regex=False)))\n",
    "row_idx = result[0][0]  # Индекс строки\n",
    "col_idx = result[1][0]  # Индекс столбца\n",
    "VendorCode = specification_xlsx.iat[row_idx, col_idx+1]\n",
    "print(VendorCode)"
   ]
  },
  {
   "cell_type": "code",
   "execution_count": 97,
   "id": "4f16faa9",
   "metadata": {},
   "outputs": [
    {
     "name": "stdout",
     "output_type": "stream",
     "text": [
      "1128885.42\n"
     ]
    }
   ],
   "source": [
    "# Вытаскиваем ReceivedCondition – сумма полученных условий\n",
    "text_order_amount_index = text.index('Сумма заказа ')\n",
    "text_order_amount = text[text_order_amount_index+12:text_order_amount_index+45]\n",
    "text_order_amount = text_order_amount[:text_order_amount.index('рублей с учетом')]\n",
    "text_order_amount = text_order_amount.replace(' ', '')\n",
    "text_order_amount = text_order_amount.replace(',', '.')\n",
    "ReceivedCondition = float(text_order_amount)\n",
    "print(ReceivedCondition)\n",
    "# print(text_order_amount)"
   ]
  },
  {
   "cell_type": "code",
   "execution_count": 98,
   "id": "45889294",
   "metadata": {},
   "outputs": [
    {
     "name": "stdout",
     "output_type": "stream",
     "text": [
      "2025-09-20 12:58:19\n"
     ]
    }
   ],
   "source": [
    "# Вытаскиваем DateCondition – до какой даты действуют\n",
    "date_condition = \"Конец действия цен\"\n",
    "# Поиск индексов (строка, столбец), где встречается текст\n",
    "result = np.where(specification_xlsx.apply(lambda x: x.astype(str).str.contains(date_condition, regex=False)))\n",
    "row_idx = result[0][0]  # Индекс строки\n",
    "col_idx = result[1][0]  # Индекс столбца\n",
    "DateCondition = specification_xlsx.iat[row_idx, col_idx+1]\n",
    "DateCondition = str(DateCondition)\n",
    "print(DateCondition)"
   ]
  },
  {
   "cell_type": "code",
   "execution_count": 99,
   "id": "9c8ea0a6",
   "metadata": {},
   "outputs": [],
   "source": [
    "# Данные для сохранения\n",
    "\n",
    "Preference = 1\n",
    "\n",
    "data = {\n",
    "    \"DiscountEKS\": DiscountEKS,\n",
    "    \"DiscountBuyer\": DiscountBuyer,\n",
    "    \"Preference\": Preference,\n",
    "    \"VendorCode\": VendorCode,\n",
    "    \"ReceivedCondition\": ReceivedCondition,\n",
    "    \"DateCondition\": DateCondition,\n",
    "    \"PathSupplierLetter\": PathSupplierLetter\n",
    "}\n",
    "\n",
    "# Укажите путь, куда сохранить файл\n",
    "json_file_path = \"data.json\"  # Замените на свой путь\n",
    "\n",
    "# Сохраняем данные в JSON-файл\n",
    "with open(json_file_path, \"w\", encoding=\"utf-8\") as file:\n",
    "    json.dump(data, file, indent=4, ensure_ascii=False)  # indent для красивого форматирования"
   ]
  }
 ],
 "metadata": {
  "kernelspec": {
   "display_name": "Python 3",
   "language": "python",
   "name": "python3"
  },
  "language_info": {
   "codemirror_mode": {
    "name": "ipython",
    "version": 3
   },
   "file_extension": ".py",
   "mimetype": "text/x-python",
   "name": "python",
   "nbconvert_exporter": "python",
   "pygments_lexer": "ipython3",
   "version": "3.10.4"
  }
 },
 "nbformat": 4,
 "nbformat_minor": 5
}
