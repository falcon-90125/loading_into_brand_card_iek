{
 "cells": [
  {
   "cell_type": "code",
   "execution_count": 2,
   "id": "dfed40a4",
   "metadata": {},
   "outputs": [],
   "source": [
    "import pandas as pd\n",
    "import numpy as np\n",
    "import os"
   ]
  },
  {
   "cell_type": "code",
   "execution_count": 3,
   "id": "309c0a39",
   "metadata": {},
   "outputs": [],
   "source": [
    "import io\n",
    "from PyPDF2 import PdfReader"
   ]
  },
  {
   "cell_type": "code",
   "execution_count": 4,
   "id": "0b5e25e9",
   "metadata": {},
   "outputs": [],
   "source": [
    "#pdf2txt\n",
    "import io\n",
    "from pdfminer.converter import TextConverter\n",
    "from pdfminer.pdfinterp import PDFPageInterpreter\n",
    "from pdfminer.pdfinterp import PDFResourceManager\n",
    "from pdfminer.pdfpage import PDFPage"
   ]
  },
  {
   "cell_type": "code",
   "execution_count": null,
   "id": "47c319bb",
   "metadata": {},
   "outputs": [],
   "source": [
    "import tkinter as tk\n",
    "from tkinter import filedialog"
   ]
  },
  {
   "cell_type": "code",
   "execution_count": null,
   "id": "e7a15d1d",
   "metadata": {},
   "outputs": [],
   "source": [
    "import json"
   ]
  },
  {
   "cell_type": "code",
   "execution_count": 55,
   "id": "4d7616c2",
   "metadata": {},
   "outputs": [
    {
     "name": "stdout",
     "output_type": "stream",
     "text": [
      "C:/Users/sokolov/Yandex_Disk/MyData/Projects/loading_into_brand_card_iek/exchange/Условия по тендеру Т250526-18779 согласованы IEKCRM0002072.msg\n"
     ]
    }
   ],
   "source": [
    "# Вытаскиваем PathSupplierLetter – путь к письму поставщика на ПК\n",
    "# folder_path = 'C:\\Users\\sokolov\\Yandex_Disk\\MyData\\Projects\\loading_into_brand_card_iek\\exchange\\'\n",
    "folder_path = 'C:/Users/sokolov/Yandex_Disk/MyData/Projects/loading_into_brand_card_iek/exchange/'\n",
    "for file in os.listdir(folder_path):\n",
    "    if '.msg' in file:\n",
    "#     if file.lower().endswith('.msg'):\n",
    "#         PathSupplierLetter = os.path.join(folder_path, file)\n",
    "        PathSupplierLetter = folder_path + file\n",
    "print(PathSupplierLetter)"
   ]
  },
  {
   "cell_type": "code",
   "execution_count": null,
   "id": "9b595401",
   "metadata": {},
   "outputs": [],
   "source": [
    "pip install extract_msg\n",
    "\n",
    "import io\n",
    "import extract_msg\n",
    "\n",
    "def extract_attachments_to_memory(PathSupplierLetter):\n",
    "    \"\"\"Извлекает вложения из .msg файла и сохраняет .xlsx и .pdf в переменные.\"\"\"\n",
    "    xlsx_attachments = []  # Список для хранения .xlsx файлов (в байтах)\n",
    "    pdf_attachments = []   # Список для хранения .pdf файлов (в байтах)\n",
    "\n",
    "    # Открываем файл .msg\n",
    "    msg = extract_msg.Message(PathSupplierLetter)\n",
    "    \n",
    "    # Перебираем все вложения\n",
    "    for attachment in msg.attachments:\n",
    "        filename = attachment.longFilename  # Имя файла с расширением\n",
    "        \n",
    "        # Если вложение - Excel (.xlsx)\n",
    "        if filename.lower().endswith('.xlsx'):\n",
    "            file_data = io.BytesIO(attachment.data)  # Читаем данные в память\n",
    "            xlsx_attachments.append((filename, file_data))\n",
    "        \n",
    "        # Если вложение - PDF (.pdf)\n",
    "        elif filename.lower().endswith('.pdf'):\n",
    "            file_data = io.BytesIO(attachment.data)  # Читаем данные в память\n",
    "            pdf_attachments.append((filename, file_data))\n",
    "    \n",
    "    msg.close()  # Закрываем файл .msg\n",
    "    \n",
    "    return xlsx_attachments, pdf_attachments\n",
    "\n",
    "specification_xlsx, pdf_attachments = extract_attachments_to_memory(PathSupplierLetter)"
   ]
  },
  {
   "cell_type": "code",
   "execution_count": 6,
   "id": "5eabbde0",
   "metadata": {},
   "outputs": [],
   "source": [
    "specification_xlsx = pd.read_excel('exchange\\Т250526-18779.xlsx') #загружаем спецификацию"
   ]
  },
  {
   "cell_type": "code",
   "execution_count": 57,
   "id": "4972503f",
   "metadata": {},
   "outputs": [
    {
     "name": "stdout",
     "output_type": "stream",
     "text": [
      "57.0\n"
     ]
    }
   ],
   "source": [
    "# Вытаскиваем DiscountEKS – наша скидка\n",
    "discount_from_base = \"Устанавливаемая скидка (скидка от базовой), %\"\n",
    "# Поиск индексов (строка, столбец), где встречается текст\n",
    "result = np.where(specification_xlsx.apply(lambda x: x.astype(str).str.contains(discount_from_base, regex=False)))\n",
    "row_idx = result[0][0]  # Индекс строки\n",
    "col_idx = result[1][0]  # Индекс столбца\n",
    "DiscountEKS = float(specification_xlsx.iat[row_idx+1, col_idx])\n",
    "print(DiscountEKS)"
   ]
  },
  {
   "cell_type": "code",
   "execution_count": null,
   "id": "5854d224",
   "metadata": {},
   "outputs": [],
   "source": [
    "# # Вытаскиваем текст из письма поставщика\n",
    "# pdf_path = 'exchange\\P250526-19292.pdf' #Путь к письму поставщика\n",
    "\n",
    "# # print(varton_price.head(5))\n",
    "\n",
    "# #Функция конвертации pdf2txt\n",
    "# def extract_text_from_pdf(pdf_path):\n",
    "#     resource_manager = PDFResourceManager()\n",
    "#     fake_file_handle = io.StringIO()\n",
    "#     converter = TextConverter(resource_manager, fake_file_handle)\n",
    "#     page_interpreter = PDFPageInterpreter(resource_manager, converter)\n",
    "\n",
    "#     with open(pdf_path, 'rb') as fh:\n",
    "#         for page in PDFPage.get_pages(fh, \n",
    "#                                       caching=True,\n",
    "#                                       check_extractable=True):\n",
    "#             page_interpreter.process_page(page)\n",
    " \n",
    "#         text = fake_file_handle.getvalue()\n",
    "#     # close open handles\n",
    "#     converter.close()\n",
    "#     fake_file_handle.close()\n",
    "#     if text:\n",
    "#         return text\n",
    "\n",
    "# # Конвернтируем pdf в txt\n",
    "# text = extract_text_from_pdf(pdf_path)"
   ]
  },
  {
   "cell_type": "code",
   "execution_count": 9,
   "id": "12dbb98c",
   "metadata": {},
   "outputs": [
    {
     "data": {
      "text/plain": [
       "'Уважаемые Партнеры! В ответ на запрос о предоставлении разовой скидки компании ООО \"СТК СТРОЙ-ВЕК\" ИНН 7017247658 в сообщаем, что IEK GROUP предоставляет компании ЭКС Новосибирск (филиал, Томск) в рамках реализации проекта Капитальный ремонт здания АБК право реализации продукции Торговой марки IEK по проекту 20241008-00979 Модернизация энергохозяйства Завод Техно, г. Юрга, ул. 1 -я Железнодорожная, 1 , указанной в предоставленной спецификации в адрес ООО \"СТК СТРОЙ-ВЕК\" на следующих условиях (с предоставлением следующих скидок): Руководитель отдела продаж по СФО Плахотько К.А. Исх № P250526-19292 От 26.05.2025 ЭКС Новосибирск (филиал, Томск) Вниманию: - Исполнитель: Новикова Екатерина Владимировна Тел: 7 (913) 880-72-46 E-mail: novikovaev@tcr.iek.ru Сумма заказа 364 103,70 рублей с учетом предоставленных спец. условий. Перечень и количество продукции указаны в Приложении Также обращаю Ваше внимание на необходимость сразу же после каждой отгрузки предоставлять в адрес IEK GROUP заверенные копии всех отгрузочных документов по данному заказу, в которых присутствует продукция Торговой марки IEK . IEK GROUP оставляет за собой право согласования аналогичных условий по запросам иных дистрибьюторов в рамках коммерческой политики IEK GROUP . 1. По продукции IEK - скидка до 52,0% Письма только для Дистрибутора Приложение Артикул Название Ед. измерения Количество MKM14-N-48-31- Z TITAN 3 Корпус метал. ЩРн-48 (620х310х120) IP31 IEK шт 1 MKM14-N-24-31- Z TITAN 3 Корпус метал. ЩРн-24 (395х310х120) IP31 IEK шт 2 CLP1K-100-1 Крышка на лоток осн. 100мм IEK м 264 MVA20-3-032-C KARAT Авт. выкл. ВА47-29 3P C 32А 4,5кА IEK шт 2 ERK11-K01-16- DM KVARTA Роз. 1-мест. с з/к/ш 16А РСш10-3-КБ бел. IEK шт 90 MVA20-1-016-C KARAT Авт. выкл. ВА47-29 1P C 16А 4,5кА IEK шт 18 MVA01D-RN Расцепитель независ. РН47 новая серия на DIN- рейку IEK шт 10 CLN10-050-100-3 ESCA Лоток неперфорированный 50х100х3000 IEK м 264 EVK20-K01-10- DM KVARTA Выключ. 2-кл. 10А ВС10-2-0-КБ бел. IEK шт 30 MVA20-3-050-C KARAT Авт. выкл. ВА47-29 3P C 50А 4,5кА IEK шт 1 MVA20-1-010-C KARAT Авт. выкл. ВА47-29 1P C 10А 4,5кА IEK шт 18 MVA20-3-040-C KARAT Авт. выкл. ВА47-29 3P C 40А 4,5кА IEK шт 2 ERK71-K01-10- DM-44 KVARTA Роз. с з/к/ш/кр IP44 16А кер РСбш11- 3-ККБ-44 бел. IEK шт 6 CLP3N-050-100 ESCA Поворот верт. внеш. 45град 50х100мм IEK шт 3 CLP1V-050-100 ESCA Поворот верт. внутр. 90град 50х100мм IEK шт 3 CTR10-020-K41- 093I Труба гладкая жесткая ПВХ d=20 мм серая 3м (93м/компл) IEK м 93 CTG20-20-K41- 100I ELASTA Труба гофр. ПВХ d=20 мм с зондом (100м) IEK м 600 YNN10-69-20D- K05 Шина PE \"земля\" на DIN- изол ШНИ-6х9-20-Д- Ж IEK шт 20 KA-VD14-1-025- C-030-AC KARAT АВДТ32 EM C25 30мА тип AC IEK шт 18 CLM50D-OVV- 050-100 ESCA Ответвитель Т-обр. верт. вверх 50х100мм IEK шт 3 CPG01-0-90-050- 100 ESCA Поворот плавн. 90град тип Г01 50х100мм IEK шт 3 CLM50D-KPS-41 Крепление потолочное для STRUT- профиля EZ IEK шт 160 CLP1S-41-21-04- 20 STRUT- профиль перфорированный 41x21 х400-2,0 IEK шт 320'"
      ]
     },
     "execution_count": 9,
     "metadata": {},
     "output_type": "execute_result"
    }
   ],
   "source": [
    "with open('exchange\\P250526-19292.pdf', 'rb') as file:\n",
    "    pdf_bytes = file.read()\n",
    "\n",
    "# Создаем PdfReader из бинарных данных\n",
    "pdf_reader = PdfReader(io.BytesIO(pdf_bytes))\n",
    "\n",
    "# Извлекаем текст со всех страниц\n",
    "pdf_text = \"\"\n",
    "for page in pdf_reader.pages:\n",
    "    pdf_text += page.extract_text() + \"\\n\"\n",
    "\n",
    "text = pdf_text.strip()\n",
    "text = text.replace('\\n', ' ')\n",
    "text = text.replace('    ', ' ')\n",
    "text = text.replace('   ', ' ')\n",
    "text = text.replace('  ', ' ')\n",
    "\n",
    "text"
   ]
  },
  {
   "cell_type": "code",
   "execution_count": 10,
   "id": "a58b6d75",
   "metadata": {},
   "outputs": [
    {
     "name": "stdout",
     "output_type": "stream",
     "text": [
      "52.0\n"
     ]
    }
   ],
   "source": [
    "# Вытаскиваем DiscountBuyer – скидка клиента\n",
    "text_discount_index = text.index('По продукции IEK - скидка до ')\n",
    "text_discount = text[text_discount_index+29:text_discount_index+40]\n",
    "text_discount = text_discount[:text_discount.index('%')]\n",
    "text_discount = text_discount.replace(',', '.')\n",
    "DiscountBuyer = float(text_discount)\n",
    "print(DiscountBuyer)"
   ]
  },
  {
   "cell_type": "code",
   "execution_count": 11,
   "id": "e6555f9a",
   "metadata": {},
   "outputs": [
    {
     "name": "stdout",
     "output_type": "stream",
     "text": [
      "20241008-00979\n"
     ]
    }
   ],
   "source": [
    "# Вытаскиваем VendorCode – код вендора\n",
    "vendor_code = \"Номер проекта в системе IEK\"\n",
    "# Поиск индексов (строка, столбец), где встречается текст\n",
    "result = np.where(specification_xlsx.apply(lambda x: x.astype(str).str.contains(vendor_code, regex=False)))\n",
    "row_idx = result[0][0]  # Индекс строки\n",
    "col_idx = result[1][0]  # Индекс столбца\n",
    "VendorCode = specification_xlsx.iat[row_idx, col_idx+1]\n",
    "print(VendorCode)"
   ]
  },
  {
   "cell_type": "code",
   "execution_count": 12,
   "id": "4f16faa9",
   "metadata": {},
   "outputs": [
    {
     "name": "stdout",
     "output_type": "stream",
     "text": [
      "364103.7\n"
     ]
    }
   ],
   "source": [
    "# Вытаскиваем ReceivedCondition – сумма полученных условий\n",
    "text_order_amount_index = text.index('Сумма заказа ')\n",
    "text_order_amount = text[text_order_amount_index+12:text_order_amount_index+40]\n",
    "text_order_amount = text_order_amount[:text_order_amount.index(' рублей с учетом')]\n",
    "text_order_amount = text_order_amount.replace(' ', '')\n",
    "text_order_amount = text_order_amount.replace(',', '.')\n",
    "ReceivedCondition = float(text_order_amount)\n",
    "print(ReceivedCondition)"
   ]
  },
  {
   "cell_type": "code",
   "execution_count": 25,
   "id": "45889294",
   "metadata": {},
   "outputs": [
    {
     "name": "stdout",
     "output_type": "stream",
     "text": [
      "2025-07-25 06:18:12\n"
     ]
    }
   ],
   "source": [
    "# Вытаскиваем DateCondition – до какой даты действуют\n",
    "date_condition = \"Конец действия цен\"\n",
    "# Поиск индексов (строка, столбец), где встречается текст\n",
    "result = np.where(specification_xlsx.apply(lambda x: x.astype(str).str.contains(date_condition, regex=False)))\n",
    "row_idx = result[0][0]  # Индекс строки\n",
    "col_idx = result[1][0]  # Индекс столбца\n",
    "DateCondition = specification_xlsx.iat[row_idx, col_idx+1]\n",
    "DateCondition = str(DateCondition)\n",
    "print(DateCondition)"
   ]
  },
  {
   "cell_type": "code",
   "execution_count": 58,
   "id": "de7ed2bb",
   "metadata": {},
   "outputs": [
    {
     "name": "stdout",
     "output_type": "stream",
     "text": [
      "1\n"
     ]
    }
   ],
   "source": [
    "# Создание главного окна\n",
    "root = tk.Tk()\n",
    "root.title(\"Преференции\")\n",
    "\n",
    "label1 = tk.Label(                      # Создание виджета метки\n",
    "    text=\"Выберите тип преференции\", # Задание отображаемого текста\n",
    "    fg=\"#07e374\",                       # Установка цвета текста\n",
    "    bg=\"#2f457c\",                       # Устанавка фона\n",
    "    width=60,                           # Установка ширина виджета (в текстовых юнитах)\n",
    "    height=5                           # Установка высоты виджета (в текстовых юнитах) \n",
    ")\n",
    "label1.pack()  \n",
    "\n",
    "def preference_nom_exclusive():\n",
    "    global Preference\n",
    "    Preference = 1\n",
    "    return Preference\n",
    "\n",
    "def preference_nom_on_request():\n",
    "    global Preference\n",
    "    Preference = 2\n",
    "    return Preference\n",
    "\n",
    "# Создание кнопки\n",
    "button1 = tk.Button(text=\"Эксклюзив\", command=preference_nom_exclusive)\n",
    "button1.pack(pady=20)\n",
    "\n",
    "button1 = tk.Button(text=\"По запросу\", command=preference_nom_on_request)\n",
    "button1.pack(pady=20)\n",
    "\n",
    "label2 = tk.Label(                      # Создание виджета метки\n",
    "    text=\"После выбора закройте это окно\", # Задание отображаемого текста\n",
    "    fg=\"#07e374\",                       # Установка цвета текста\n",
    "    bg=\"#2f457c\",                       # Устанавка фона\n",
    "    width=60,                           # Установка ширина виджета (в текстовых юнитах)\n",
    "    height=5                           # Установка высоты виджета (в текстовых юнитах) \n",
    ")\n",
    "label2.pack()  \n",
    "\n",
    "root.mainloop()\n",
    "\n",
    "print(Preference)"
   ]
  },
  {
   "cell_type": "code",
   "execution_count": null,
   "id": "9c8ea0a6",
   "metadata": {},
   "outputs": [
    {
     "name": "stdout",
     "output_type": "stream",
     "text": [
      "Файл сохранён: exchange/data.json\n"
     ]
    }
   ],
   "source": [
    "# Данные для сохранения\n",
    "data = {\n",
    "    \"DiscountEKS\": DiscountEKS,\n",
    "    \"DiscountBuyer\": DiscountBuyer,\n",
    "    \"Preference\": Preference,\n",
    "    \"VendorCode\": VendorCode,\n",
    "    \"ReceivedCondition\": ReceivedCondition,\n",
    "    \"DateCondition\": DateCondition,\n",
    "    \"PathSupplierLetter\": PathSupplierLetter\n",
    "}\n",
    "\n",
    "# Укажите путь, куда сохранить файл\n",
    "json_file_path = \"exchange/data.json\"  # Замените на свой путь\n",
    "\n",
    "# Сохраняем данные в JSON-файл\n",
    "with open(json_file_path, \"w\", encoding=\"utf-8\") as file:\n",
    "    json.dump(data, file, indent=4, ensure_ascii=False)  # indent для красивого форматирования"
   ]
  }
 ],
 "metadata": {
  "kernelspec": {
   "display_name": "Python 3",
   "language": "python",
   "name": "python3"
  },
  "language_info": {
   "codemirror_mode": {
    "name": "ipython",
    "version": 3
   },
   "file_extension": ".py",
   "mimetype": "text/x-python",
   "name": "python",
   "nbconvert_exporter": "python",
   "pygments_lexer": "ipython3",
   "version": "3.10.4"
  }
 },
 "nbformat": 4,
 "nbformat_minor": 5
}
